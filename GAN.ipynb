{
  "nbformat": 4,
  "nbformat_minor": 0,
  "metadata": {
    "colab": {
      "provenance": [],
      "gpuType": "T4"
    },
    "kernelspec": {
      "name": "python3",
      "display_name": "Python 3"
    },
    "language_info": {
      "name": "python"
    },
    "accelerator": "GPU"
  },
  "cells": [
    {
      "cell_type": "markdown",
      "source": [
        "This notebook is used for every view and sex. Just datapath is changed."
      ],
      "metadata": {
        "id": "L0kMKIuFR7oO"
      }
    },
    {
      "cell_type": "code",
      "execution_count": null,
      "metadata": {
        "id": "UqqwEfWVNC7h"
      },
      "outputs": [],
      "source": [
        "import numpy as np\n",
        "import os\n",
        "import tensorflow as tf\n",
        "from tensorflow import keras\n",
        "from tensorflow.keras import layers\n",
        "from PIL import Image\n",
        "from tensorflow.keras import backend as K"
      ]
    },
    {
      "cell_type": "code",
      "source": [
        "from google.colab import drive\n",
        "drive.mount('/content/drive')"
      ],
      "metadata": {
        "colab": {
          "base_uri": "https://localhost:8080/"
        },
        "id": "P1O4AgV3he40",
        "outputId": "80605156-9c74-401e-b21a-3aeeb0edfc57"
      },
      "execution_count": null,
      "outputs": [
        {
          "output_type": "stream",
          "name": "stdout",
          "text": [
            "Mounted at /content/drive\n"
          ]
        }
      ]
    },
    {
      "cell_type": "code",
      "source": [
        "# Path\n",
        "DATA_PATH = '/content/drive/MyDrive/M'\n",
        "BATCH_SIZE = 32"
      ],
      "metadata": {
        "id": "i6qEIowTNk1f"
      },
      "execution_count": null,
      "outputs": []
    },
    {
      "cell_type": "code",
      "source": [
        "# Load the dataset\n",
        "def load_image(image_path):\n",
        "    img = tf.io.read_file(image_path)\n",
        "    img = tf.image.decode_jpeg(img, channels=3)\n",
        "    img = tf.image.resize(img, [224, 224])\n",
        "    img = (img - 127.5) / 127.5  # Normalize to [-1,1]\n",
        "    return img"
      ],
      "metadata": {
        "id": "L6xjevrUNmzF"
      },
      "execution_count": null,
      "outputs": []
    },
    {
      "cell_type": "code",
      "source": [
        "# Create a TensorFlow dataset\n",
        "dataset = tf.data.Dataset.list_files(DATA_PATH + '/*.jpg')\n",
        "dataset = dataset.map(load_image, num_parallel_calls=tf.data.experimental.AUTOTUNE)\n",
        "dataset = dataset.shuffle(buffer_size=1000).batch(BATCH_SIZE).prefetch(tf.data.experimental.AUTOTUNE)"
      ],
      "metadata": {
        "id": "yxEGRT0ZNnXv"
      },
      "execution_count": null,
      "outputs": []
    },
    {
      "cell_type": "code",
      "source": [
        "from tensorflow.keras.layers import Softmax"
      ],
      "metadata": {
        "id": "D2T5jApilG6V"
      },
      "execution_count": null,
      "outputs": []
    },
    {
      "cell_type": "code",
      "source": [
        "# self attention\n",
        "class SelfAttention(keras.layers.Layer):\n",
        "    def __init__(self, in_dim, attention_dim):\n",
        "        super(SelfAttention, self).__init__()\n",
        "        self.query_conv = layers.Conv2D(filters=attention_dim, kernel_size=1, padding='same')\n",
        "        self.key_conv = layers.Conv2D(filters=attention_dim, kernel_size=1, padding='same')\n",
        "        self.value_conv = layers.Conv2D(filters=in_dim, kernel_size=1, padding='same')\n",
        "        self.gamma = self.add_weight(name='gamma', shape=(), initializer='zeros', trainable=True)\n",
        "        self.softmax = layers.Softmax(axis=-1)\n",
        "\n",
        "    def call(self, x):\n",
        "        # Accessing the shape components by indexing\n",
        "        batch_size = tf.shape(x)[0]\n",
        "        height = tf.shape(x)[1]\n",
        "        width = tf.shape(x)[2]\n",
        "        C = tf.shape(x)[3]\n",
        "\n",
        "        proj_query = tf.reshape(self.query_conv(x), [batch_size, -1, width*height])\n",
        "        proj_query = tf.transpose(proj_query, perm=[0, 2, 1])\n",
        "        proj_key = tf.reshape(self.key_conv(x), [batch_size, -1, width*height])\n",
        "        energy = tf.matmul(proj_query, proj_key)\n",
        "        attention = self.softmax(energy)\n",
        "        proj_value = tf.reshape(self.value_conv(x), [batch_size, -1, width*height])\n",
        "\n",
        "        out = tf.matmul(proj_value, tf.transpose(attention, perm=[0, 2, 1]))\n",
        "        out = tf.reshape(out, [batch_size, height, width, C])\n",
        "        out = self.gamma * out + x\n",
        "        return out\n"
      ],
      "metadata": {
        "id": "D5pTiOYAlB9q"
      },
      "execution_count": null,
      "outputs": []
    },
    {
      "cell_type": "code",
      "source": [
        "def make_generator_model(input_shape=(100,)):\n",
        "    model = keras.Sequential()\n",
        "\n",
        "    # Starting with a 7x7x256 tensor\n",
        "    model.add(layers.Dense(7*7*256, use_bias=False, input_shape=input_shape))\n",
        "    model.add(layers.BatchNormalization())\n",
        "    model.add(layers.LeakyReLU(alpha=0.2))\n",
        "    model.add(layers.Reshape((7, 7, 256)))\n",
        "\n",
        "    # Upscale to 14x14\n",
        "    model.add(layers.Conv2DTranspose(128, kernel_size=4, strides=2, padding='same', use_bias=False))\n",
        "    model.add(layers.BatchNormalization())\n",
        "    model.add(layers.LeakyReLU(alpha=0.2))\n",
        "\n",
        "    # Upscale to 28x28\n",
        "    model.add(layers.Conv2DTranspose(64, kernel_size=4, strides=2, padding='same', use_bias=False))\n",
        "    model.add(layers.BatchNormalization())\n",
        "    model.add(layers.LeakyReLU(alpha=0.2))\n",
        "\n",
        "    # Add Self-Attention here\n",
        "    model.add(SelfAttention(64, 16))\n",
        "\n",
        "    # Upscale to 56x56\n",
        "    model.add(layers.Conv2DTranspose(32, kernel_size=4, strides=2, padding='same', use_bias=False))\n",
        "    model.add(layers.BatchNormalization())\n",
        "    model.add(layers.LeakyReLU(alpha=0.2))\n",
        "\n",
        "    # Upscale to 112x112\n",
        "    model.add(layers.Conv2DTranspose(16, kernel_size=4, strides=2, padding='same', use_bias=False))\n",
        "    model.add(layers.BatchNormalization())\n",
        "    model.add(layers.LeakyReLU(alpha=0.2))\n",
        "\n",
        "    # Upscale to 224x224\n",
        "    model.add(layers.Conv2DTranspose(3, kernel_size=4, strides=2, padding='same', use_bias=False, activation='tanh'))\n",
        "\n",
        "    return model"
      ],
      "metadata": {
        "id": "rq2zkMaPIBVZ"
      },
      "execution_count": null,
      "outputs": []
    },
    {
      "cell_type": "code",
      "source": [
        "def make_discriminator_model(img_shape=(224, 224, 3)):\n",
        "    model = keras.Sequential()\n",
        "\n",
        "    model.add(layers.Conv2D(16, kernel_size=4, strides=2, padding='same', input_shape=img_shape))\n",
        "    model.add(layers.LeakyReLU(alpha=0.2))\n",
        "    model.add(layers.Dropout(0.5))\n",
        "\n",
        "    model.add(layers.Conv2D(32, kernel_size=4, strides=2, padding='same'))\n",
        "    model.add(layers.BatchNormalization())\n",
        "    model.add(layers.LeakyReLU(alpha=0.2))\n",
        "    model.add(layers.Dropout(0.5))\n",
        "\n",
        "    model.add(layers.Conv2D(64, kernel_size=4, strides=2, padding='same'))\n",
        "    model.add(layers.BatchNormalization())\n",
        "    model.add(layers.LeakyReLU(alpha=0.2))\n",
        "    model.add(layers.Dropout(0.5))\n",
        "\n",
        "    model.add(layers.Conv2D(128, kernel_size=4, strides=2, padding='same'))\n",
        "    model.add(layers.BatchNormalization())\n",
        "    model.add(layers.LeakyReLU(alpha=0.2))\n",
        "    model.add(layers.Dropout(0.5))\n",
        "\n",
        "    model.add(layers.Conv2D(256, kernel_size=4, strides=2, padding='same'))\n",
        "    model.add(layers.BatchNormalization())\n",
        "    model.add(layers.LeakyReLU(alpha=0.2))\n",
        "    model.add(layers.Dropout(0.5))\n",
        "\n",
        "    model.add(layers.Flatten())\n",
        "    model.add(layers.Dense(1))\n",
        "\n",
        "    return model"
      ],
      "metadata": {
        "id": "7Do9MSlTIN-Y"
      },
      "execution_count": null,
      "outputs": []
    },
    {
      "cell_type": "code",
      "source": [
        "generator = make_generator_model()\n",
        "discriminator = make_discriminator_model()"
      ],
      "metadata": {
        "id": "OA0FQMOGNt8T"
      },
      "execution_count": null,
      "outputs": []
    },
    {
      "cell_type": "code",
      "source": [
        "# Loss and optimizers\n",
        "cross_entropy = tf.keras.losses.BinaryCrossentropy(from_logits=True)\n",
        "\n",
        "initial_learning_rate = 0.0002\n",
        "\n",
        "lr_schedule = tf.keras.optimizers.schedules.ExponentialDecay(\n",
        "    initial_learning_rate,\n",
        "    decay_steps=1000,\n",
        "    decay_rate=0.96,\n",
        "    staircase=True)\n",
        "\n",
        "# Adjusted the beta_1 value for the Adam optimizer\n",
        "generator_optimizer = tf.keras.optimizers.Adam(learning_rate=lr_schedule, beta_1=0.5)\n",
        "discriminator_optimizer = tf.keras.optimizers.Adam(learning_rate=lr_schedule, beta_1=0.5)"
      ],
      "metadata": {
        "id": "jUuObA5kNuhg"
      },
      "execution_count": null,
      "outputs": []
    },
    {
      "cell_type": "code",
      "source": [
        "# Seed for consistent image generation\n",
        "seed = tf.random.normal([150, 100])"
      ],
      "metadata": {
        "id": "KkyLGFF6Zszd"
      },
      "execution_count": null,
      "outputs": []
    },
    {
      "cell_type": "code",
      "source": [
        "@tf.function\n",
        "def train_step(images):\n",
        "    current_batch_size = images.shape[0]  # Get the current batch size\n",
        "    noise = tf.random.normal([current_batch_size, 100])\n",
        "\n",
        "    with tf.GradientTape() as gen_tape, tf.GradientTape() as disc_tape:\n",
        "        generated_images = generator(noise, training=True)\n",
        "\n",
        "        real_output = discriminator(images, training=True)\n",
        "        fake_output = discriminator(generated_images, training=True)\n",
        "\n",
        "        # Use the real_labels_smoothed and fake_labels_smoothed approach or the original one\n",
        "        real_labels_smoothed = tf.ones_like(real_output) * 0.9\n",
        "        fake_labels_smoothed = tf.zeros_like(fake_output) + 0.1\n",
        "\n",
        "        gen_loss = cross_entropy(tf.ones_like(fake_output), fake_output)\n",
        "        real_loss = cross_entropy(real_labels_smoothed, real_output)\n",
        "        fake_loss = cross_entropy(fake_labels_smoothed, fake_output)\n",
        "        disc_loss = real_loss + fake_loss\n",
        "\n",
        "    gradients_of_generator = gen_tape.gradient(gen_loss, generator.trainable_variables)\n",
        "    gradients_of_discriminator = disc_tape.gradient(disc_loss, discriminator.trainable_variables)\n",
        "\n",
        "\n",
        "    # Clipping the gradients\n",
        "    clipped_gen_gradients = [tf.clip_by_value(grad, -1., 1.) for grad in gradients_of_generator]\n",
        "    clipped_disc_gradients = [tf.clip_by_value(grad, -1., 1.) for grad in gradients_of_discriminator]\n",
        "\n",
        "    generator_optimizer.apply_gradients(zip(clipped_gen_gradients, generator.trainable_variables))\n",
        "    discriminator_optimizer.apply_gradients(zip(clipped_disc_gradients, discriminator.trainable_variables))\n",
        "\n",
        "    return gen_loss, disc_loss"
      ],
      "metadata": {
        "id": "tm3SwhvPJCWZ"
      },
      "execution_count": null,
      "outputs": []
    },
    {
      "cell_type": "code",
      "source": [
        "def generate_and_save_images(model, epoch, test_input):\n",
        "    # Ensure output path exists\n",
        "    output_path = os.path.join(DATA_PATH, 'output_GAN')\n",
        "    if not os.path.exists(output_path):\n",
        "        os.makedirs(output_path)\n",
        "\n",
        "    print(\"Generating predictions...\")\n",
        "    predictions = model(test_input, training=False)\n",
        "    print(\"Converting predictions...\")\n",
        "    predictions = (predictions + 1) * 127.5  # Convert from [-1, 1] to [0, 255]\n",
        "    predictions = tf.cast(predictions, tf.uint8)\n",
        "    print(\"Saving images...\")\n",
        "\n",
        "    for i, img in enumerate(predictions):\n",
        "        path = os.path.join(output_path, f'image_epoch{epoch}_sample{i}.png')\n",
        "        tf.keras.preprocessing.image.save_img(path, img)"
      ],
      "metadata": {
        "id": "kR1zaQ6uZ4jp"
      },
      "execution_count": null,
      "outputs": []
    },
    {
      "cell_type": "code",
      "source": [
        "# Training loop\n",
        "def train(dataset, epochs):\n",
        "  for epoch in range(epochs):\n",
        "    gen_loss_metric = tf.keras.metrics.Mean()\n",
        "    disc_loss_metric = tf.keras.metrics.Mean()\n",
        "\n",
        "    for images in dataset:\n",
        "        gen_loss, disc_loss = train_step(images)\n",
        "        gen_loss_metric(gen_loss)\n",
        "        disc_loss_metric(disc_loss)\n",
        "\n",
        "    # Print the losses\n",
        "    print(f\"Epoch {epoch+1}, Generator Loss: {gen_loss_metric.result()}, Discriminator Loss: {disc_loss_metric.result()}\")\n",
        "\n",
        "    # Generate and save images only for the last 10 epochs\n",
        "    if epoch >= (epochs - 5):\n",
        "        generate_and_save_images(generator, epoch + 1, seed)"
      ],
      "metadata": {
        "id": "taw7dj1qN1mn"
      },
      "execution_count": null,
      "outputs": []
    },
    {
      "cell_type": "code",
      "source": [
        "num_epochs = 10000  # Adjust as needed\n",
        "train(dataset, num_epochs)"
      ],
      "metadata": {
        "id": "Q5JT-_K5N-x2"
      },
      "execution_count": null,
      "outputs": []
    }
  ]
}