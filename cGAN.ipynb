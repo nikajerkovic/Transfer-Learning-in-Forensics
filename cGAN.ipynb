{
  "nbformat": 4,
  "nbformat_minor": 0,
  "metadata": {
    "colab": {
      "provenance": [],
      "gpuType": "T4",
      "machine_shape": "hm"
    },
    "kernelspec": {
      "name": "python3",
      "display_name": "Python 3"
    },
    "language_info": {
      "name": "python"
    },
    "accelerator": "GPU"
  },
  "cells": [
    {
      "cell_type": "markdown",
      "source": [
        "This notebook is used for every view. Just datapath is changed."
      ],
      "metadata": {
        "id": "jjfcchFzS1Pw"
      }
    },
    {
      "cell_type": "code",
      "source": [
        "import numpy as np\n",
        "import os\n",
        "import tensorflow as tf\n",
        "from tensorflow import keras\n",
        "from tensorflow.keras import layers\n",
        "from PIL import Image\n",
        "from tensorflow.keras import backend as K"
      ],
      "metadata": {
        "id": "T8a0Zdpwj5z8"
      },
      "execution_count": null,
      "outputs": []
    },
    {
      "cell_type": "code",
      "source": [
        "from google.colab import drive\n",
        "drive.mount('/content/drive')"
      ],
      "metadata": {
        "colab": {
          "base_uri": "https://localhost:8080/"
        },
        "id": "ecCRkTb7rSHG",
        "outputId": "a42c79eb-f6ac-49e9-83b8-b700c4d661be"
      },
      "execution_count": null,
      "outputs": [
        {
          "output_type": "stream",
          "name": "stdout",
          "text": [
            "Mounted at /content/drive\n"
          ]
        }
      ]
    },
    {
      "cell_type": "code",
      "source": [
        "# Path\n",
        "DATA_PATH_F = '/content/drive/MyDrive/sve_F-bez augumentacije/Train/F'\n",
        "DATA_PATH_M = '/content/drive/MyDrive/sve_F-bez augumentacije/Train/M'\n",
        "DATA_PATH = '/content/drive/MyDrive/sve_F-bez augumentacije/Train'\n",
        "BATCH_SIZE = 32\n",
        "NUM_CLASSES = 2  # Number of classes, F and M in this case"
      ],
      "metadata": {
        "id": "SWBVye-Aj9a5"
      },
      "execution_count": null,
      "outputs": []
    },
    {
      "cell_type": "code",
      "source": [
        "# Load the dataset\n",
        "def load_image(image_path, label):\n",
        "    img = tf.io.read_file(image_path)\n",
        "    img = tf.image.decode_jpeg(img, channels=3)\n",
        "    img = tf.image.resize(img, [224, 224])\n",
        "    img = (img - 127.5) / 127.5  # Normalize to [-1,1]\n",
        "    return img, label"
      ],
      "metadata": {
        "id": "7mwFLtugj_DW"
      },
      "execution_count": null,
      "outputs": []
    },
    {
      "cell_type": "code",
      "source": [
        "# Create a TensorFlow dataset\n",
        "dataset_f = tf.data.Dataset.list_files(DATA_PATH_F + '/*.jpg').map(lambda x: load_image(x, 0))\n",
        "dataset_m = tf.data.Dataset.list_files(DATA_PATH_M + '/*.jpg').map(lambda x: load_image(x, 1))\n",
        "dataset = dataset_f.concatenate(dataset_m)\n",
        "dataset = dataset.shuffle(buffer_size=1000).batch(BATCH_SIZE).prefetch(tf.data.experimental.AUTOTUNE)"
      ],
      "metadata": {
        "id": "KufIGlYqj_e7"
      },
      "execution_count": null,
      "outputs": []
    },
    {
      "cell_type": "code",
      "source": [
        "# self attention\n",
        "class SelfAttention(keras.layers.Layer):\n",
        "    def __init__(self, in_dim, attention_dim):\n",
        "        super(SelfAttention, self).__init__()\n",
        "        self.query_conv = layers.Conv2D(filters=attention_dim, kernel_size=1, padding='same')\n",
        "        self.key_conv = layers.Conv2D(filters=attention_dim, kernel_size=1, padding='same')\n",
        "        self.value_conv = layers.Conv2D(filters=in_dim, kernel_size=1, padding='same')\n",
        "        self.gamma = self.add_weight(name='gamma', shape=(), initializer='zeros', trainable=True)\n",
        "        self.softmax = layers.Softmax(axis=-1)\n",
        "\n",
        "    def call(self, x):\n",
        "        # Accessing the shape components by indexing\n",
        "        batch_size = tf.shape(x)[0]\n",
        "        height = tf.shape(x)[1]\n",
        "        width = tf.shape(x)[2]\n",
        "        C = tf.shape(x)[3]\n",
        "\n",
        "        proj_query = tf.reshape(self.query_conv(x), [batch_size, -1, width*height])\n",
        "        proj_query = tf.transpose(proj_query, perm=[0, 2, 1])\n",
        "        proj_key = tf.reshape(self.key_conv(x), [batch_size, -1, width*height])\n",
        "        energy = tf.matmul(proj_query, proj_key)\n",
        "        attention = self.softmax(energy)\n",
        "        proj_value = tf.reshape(self.value_conv(x), [batch_size, -1, width*height])\n",
        "\n",
        "        out = tf.matmul(proj_value, tf.transpose(attention, perm=[0, 2, 1]))\n",
        "        out = tf.reshape(out, [batch_size, height, width, C])\n",
        "        out = self.gamma * out + x\n",
        "        return out"
      ],
      "metadata": {
        "id": "YgKeMtqxl42d"
      },
      "execution_count": null,
      "outputs": []
    },
    {
      "cell_type": "code",
      "source": [
        "# Generator model\n",
        "def make_conditional_generator_model(input_shape=(100,), num_classes=NUM_CLASSES):\n",
        "    noise_input = layers.Input(shape=input_shape)\n",
        "    label_input = layers.Input(shape=(1,), dtype='int32')\n",
        "\n",
        "    label_embedding = layers.Embedding(num_classes, input_shape[0])(label_input)\n",
        "    label_embedding = layers.Flatten()(label_embedding)\n",
        "\n",
        "    merged_input = layers.Concatenate()([noise_input, label_embedding])\n",
        "\n",
        "    x = layers.Dense(7*7*256, use_bias=False)(merged_input)\n",
        "    x = layers.BatchNormalization()(x)\n",
        "    x = layers.LeakyReLU(alpha=0.2)(x)\n",
        "    x = layers.Reshape((7, 7, 256))(x)\n",
        "\n",
        "    x = layers.Conv2DTranspose(128, kernel_size=4, strides=2, padding='same', use_bias=False)(x)\n",
        "    x = layers.BatchNormalization()(x)\n",
        "    x = layers.LeakyReLU(alpha=0.2)(x)\n",
        "\n",
        "    x = layers.Conv2DTranspose(64, kernel_size=4, strides=2, padding='same', use_bias=False)(x)\n",
        "    x = layers.BatchNormalization()(x)\n",
        "    x = layers.LeakyReLU(alpha=0.2)(x)\n",
        "\n",
        "    # Add Self-Attention here if needed\n",
        "    x = SelfAttention(64, 16)(x)\n",
        "\n",
        "\n",
        "    x = layers.Conv2DTranspose(32, kernel_size=4, strides=2, padding='same', use_bias=False)(x)\n",
        "    x = layers.BatchNormalization()(x)\n",
        "    x = layers.LeakyReLU(alpha=0.2)(x)\n",
        "\n",
        "    x = layers.Conv2DTranspose(16, kernel_size=4, strides=2, padding='same', use_bias=False)(x)\n",
        "    x = layers.BatchNormalization()(x)\n",
        "    x = layers.LeakyReLU(alpha=0.2)(x)\n",
        "\n",
        "    out = layers.Conv2DTranspose(3, kernel_size=4, strides=2, padding='same', use_bias=False, activation='tanh')(x)\n",
        "\n",
        "    model = keras.Model(inputs=[noise_input, label_input], outputs=out)\n",
        "    return model"
      ],
      "metadata": {
        "id": "3Ahd3l2-kBr5"
      },
      "execution_count": null,
      "outputs": []
    },
    {
      "cell_type": "code",
      "source": [
        "# Discriminator model\n",
        "def make_conditional_discriminator_model(img_shape=(224, 224, 3), num_classes=NUM_CLASSES):\n",
        "    image_input = layers.Input(shape=img_shape)\n",
        "    label_input = layers.Input(shape=(1,), dtype='int32')\n",
        "\n",
        "    label_embedding = layers.Embedding(num_classes, np.prod(img_shape))(label_input)\n",
        "    label_embedding = layers.Flatten()(label_embedding)\n",
        "    label_embedding = layers.Reshape(img_shape)(label_embedding)\n",
        "\n",
        "    merged_input = layers.Concatenate()([image_input, label_embedding])\n",
        "\n",
        "    x = layers.Conv2D(16, kernel_size=4, strides=2, padding='same')(merged_input)\n",
        "    x = layers.LeakyReLU(alpha=0.2)(x)\n",
        "    x = layers.Dropout(0.5)(x)\n",
        "\n",
        "    x = layers.Conv2D(32, kernel_size=4, strides=2, padding='same')(x)\n",
        "    x = layers.BatchNormalization()(x)\n",
        "    x = layers.LeakyReLU(alpha=0.2)(x)\n",
        "    x = layers.Dropout(0.5)(x)\n",
        "\n",
        "    x = layers.Conv2D(64, kernel_size=4, strides=2, padding='same')(x)\n",
        "    x = layers.BatchNormalization()(x)\n",
        "    x = layers.LeakyReLU(alpha=0.2)(x)\n",
        "    x = layers.Dropout(0.5)(x)\n",
        "\n",
        "    x = layers.Conv2D(128, kernel_size=4, strides=2, padding='same')(x)\n",
        "    x = layers.BatchNormalization()(x)\n",
        "    x = layers.LeakyReLU(alpha=0.2)(x)\n",
        "    x = layers.Dropout(0.5)(x)\n",
        "\n",
        "    x = layers.Conv2D(256, kernel_size=4, strides=2, padding='same')(x)\n",
        "    x = layers.BatchNormalization()(x)\n",
        "    x = layers.LeakyReLU(alpha=0.2)(x)\n",
        "    x = layers.Dropout(0.5)(x)\n",
        "\n",
        "    x = layers.Flatten()(x)\n",
        "    out = layers.Dense(1)(x)  # No activation, because from_logits=True in loss function\n",
        "\n",
        "    model = keras.Model([image_input, label_input], out)\n",
        "    return model"
      ],
      "metadata": {
        "id": "qibsjjzjkGLe"
      },
      "execution_count": null,
      "outputs": []
    },
    {
      "cell_type": "code",
      "source": [
        "generator = make_conditional_generator_model()\n",
        "discriminator = make_conditional_discriminator_model()"
      ],
      "metadata": {
        "id": "D_VzxHh-oq_e"
      },
      "execution_count": null,
      "outputs": []
    },
    {
      "cell_type": "code",
      "source": [
        "# Define the loss and optimizers\n",
        "cross_entropy = tf.keras.losses.BinaryCrossentropy(from_logits=True)\n",
        "\n",
        "\n",
        "initial_learning_rate = 0.0002\n",
        "\n",
        "lr_schedule = tf.keras.optimizers.schedules.ExponentialDecay(\n",
        "    initial_learning_rate,\n",
        "    decay_steps=1000,\n",
        "    decay_rate=0.96,\n",
        "    staircase=True)\n",
        "\n",
        "# Adjusted the beta_1 value for the Adam optimizer\n",
        "generator_optimizer = tf.keras.optimizers.Adam(learning_rate=lr_schedule, beta_1=0.5)\n",
        "discriminator_optimizer = tf.keras.optimizers.Adam(learning_rate=lr_schedule, beta_1=0.5)"
      ],
      "metadata": {
        "id": "3kjrRPNIpCbQ"
      },
      "execution_count": null,
      "outputs": []
    },
    {
      "cell_type": "code",
      "source": [
        "noise_dim = 100"
      ],
      "metadata": {
        "id": "Isbbg8Yg5UE9"
      },
      "execution_count": null,
      "outputs": []
    },
    {
      "cell_type": "code",
      "source": [
        "# Training step for conditional GAN with gradient clipping\n",
        "@tf.function\n",
        "def train_step(images, labels):\n",
        "    # Generate random noise\n",
        "    noise = tf.random.normal([BATCH_SIZE, noise_dim])\n",
        "    # Generate fake labels\n",
        "    fake_labels = tf.random.uniform([BATCH_SIZE, 1], minval=0, maxval=NUM_CLASSES, dtype=tf.int32)\n",
        "\n",
        "    with tf.GradientTape() as gen_tape, tf.GradientTape() as disc_tape:\n",
        "        # Generate fake images\n",
        "        generated_images = generator([noise, fake_labels], training=True)\n",
        "\n",
        "        # Get the logits for real images\n",
        "        real_output = discriminator([images,labels], training=True)\n",
        "        # Get the logits for fake images\n",
        "        fake_output = discriminator([generated_images,fake_labels], training=True)\n",
        "\n",
        "        # Calculate the generator loss\n",
        "        gen_loss = cross_entropy(tf.ones_like(fake_output), fake_output)\n",
        "        # Calculate the discriminator loss for real images\n",
        "        real_loss = cross_entropy(tf.ones_like(real_output), real_output)\n",
        "        # Calculate the discriminator loss for fake images\n",
        "        fake_loss = cross_entropy(tf.zeros_like(fake_output), fake_output)\n",
        "        # Total discriminator loss\n",
        "        disc_loss = real_loss + fake_loss\n",
        "\n",
        "    # Get the gradients for the generator\n",
        "    gradients_of_generator = gen_tape.gradient(gen_loss, generator.trainable_variables)\n",
        "    # Get the gradients for the discriminator\n",
        "    gradients_of_discriminator = disc_tape.gradient(disc_loss, discriminator.trainable_variables)\n",
        "\n",
        "    # Clip the gradients for the generator\n",
        "    clipped_gen_gradients = [tf.clip_by_value(grad, -1., 1.) for grad in gradients_of_generator]\n",
        "    # Clip the gradients for the discriminator\n",
        "    clipped_disc_gradients = [tf.clip_by_value(grad, -1., 1.) for grad in gradients_of_discriminator]\n",
        "\n",
        "    # Apply the gradients to the optimizer\n",
        "    generator_optimizer.apply_gradients(zip(clipped_gen_gradients, generator.trainable_variables))\n",
        "    discriminator_optimizer.apply_gradients(zip(clipped_disc_gradients, discriminator.trainable_variables))\n",
        "\n",
        "    return gen_loss, disc_loss"
      ],
      "metadata": {
        "id": "l43nk5-ikLHA"
      },
      "execution_count": null,
      "outputs": []
    },
    {
      "cell_type": "code",
      "source": [
        "def generate_and_save_images(model, epoch, test_input, num_images_per_class=100):\n",
        "    # Ensure output path exists\n",
        "    output_path = os.path.join(DATA_PATH, f'output_cGAN{epoch}')\n",
        "    if not os.path.exists(output_path):\n",
        "        os.makedirs(output_path)\n",
        "\n",
        "    # Prepare noise vector and class labels\n",
        "    noise = tf.random.normal([num_images_per_class * NUM_CLASSES, 100])\n",
        "    labels = tf.concat([tf.fill([num_images_per_class, 1], class_id) for class_id in range(NUM_CLASSES)], axis=0)\n",
        "\n",
        "    predictions = model([noise, labels], training=False)\n",
        "\n",
        "    # Convert from [-1, 1] to [0, 255]\n",
        "    predictions = (predictions + 1) * 127.5\n",
        "    predictions = tf.cast(predictions, tf.uint8)\n",
        "\n",
        "    # Save images\n",
        "    for i in range(num_images_per_class * NUM_CLASSES):\n",
        "        class_id = i // num_images_per_class\n",
        "        img = predictions[i]\n",
        "        path = os.path.join(output_path, f'class_{class_id}_sample_{i % num_images_per_class}.png')\n",
        "        tf.keras.preprocessing.image.save_img(path, img)\n"
      ],
      "metadata": {
        "id": "b9DXEZ5skTQv"
      },
      "execution_count": null,
      "outputs": []
    },
    {
      "cell_type": "code",
      "source": [
        "seed = tf.random.normal([150, 100])"
      ],
      "metadata": {
        "id": "tIqNi04PqrGQ"
      },
      "execution_count": null,
      "outputs": []
    },
    {
      "cell_type": "code",
      "source": [
        "num_examples_to_generate = 200  # Total number of images\n",
        "num_classes = 2  # Number of classes\n",
        "\n",
        "# Create the noise vector\n",
        "noise = tf.random.normal([num_examples_to_generate, noise_dim])\n",
        "\n",
        "# Create the class labels\n",
        "labels = tf.concat([\n",
        "    tf.fill([num_examples_to_generate // num_classes, 1], class_id)\n",
        "    for class_id in range(num_classes)\n",
        "], axis=0)\n",
        "\n",
        "# Combine noise and labels to create the seed\n",
        "seed = (noise, labels)"
      ],
      "metadata": {
        "id": "44sod8qO359w"
      },
      "execution_count": null,
      "outputs": []
    },
    {
      "cell_type": "code",
      "source": [
        "# Define the training function\n",
        "def train(dataset, epochs, num_images_per_class):\n",
        "    for epoch in range(epochs):\n",
        "        for image_batch, label_batch in dataset:\n",
        "            gen_loss, disc_loss = train_step(image_batch, label_batch)\n",
        "\n",
        "        # Print the losses\n",
        "        print(f\"Epoch {epoch+1}, Generator Loss: {gen_loss}, Discriminator Loss: {disc_loss}\")\n",
        "\n",
        "        # Generate and save images only for the last 5 epochs\n",
        "        if epoch >= (epochs - 10):\n",
        "            generate_and_save_images(generator, epoch + 1, seed, num_images_per_class)"
      ],
      "metadata": {
        "id": "wX03tixXpuwz"
      },
      "execution_count": null,
      "outputs": []
    },
    {
      "cell_type": "code",
      "source": [
        "# Call the train function\n",
        "train(dataset, 10000, 100)"
      ],
      "metadata": {
        "id": "Q9SvyEcKq2Cn"
      },
      "execution_count": null,
      "outputs": []
    }
  ]
}